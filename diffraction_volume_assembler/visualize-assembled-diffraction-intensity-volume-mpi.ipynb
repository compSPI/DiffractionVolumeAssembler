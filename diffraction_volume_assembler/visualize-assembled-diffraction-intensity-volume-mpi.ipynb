{
 "cells": [
  {
   "cell_type": "markdown",
   "metadata": {},
   "source": [
    "# Visualize the Diffraction Volume Assembled from the MPI Script"
   ]
  },
  {
   "cell_type": "code",
   "execution_count": null,
   "metadata": {},
   "outputs": [],
   "source": [
    "diffraction_intensity_volume_h5_file = \"/reg/data/ana03/scratch/deebanr/3iyf-10K-mixed-hit-99/diffraction-intensity-volume/cspi_synthetic_dataset_diffraction_patterns_3iyf-10K-mixed-hit_uniform_quat_dataset-size=10000_diffraction-pattern-shape=128x128.hdf5\"\n",
    "\n",
    "diffraction_intensity_volume_h5_file_handle = h5.File(diffraction_intensity_volume_h5_file, 'r')\n",
    "\n",
    "intensity_coords = diffraction_intensity_volume_h5_file_handle[\"intensity_coords\"][:]\n",
    "intensity_vals = diffraction_intensity_volume_h5_file_handle[\"intensity_vals\"][:]\n",
    "\n",
    "nonzero_idx = np.where(intensity_vals > 0)\n",
    "nonzero_intensity_vals = intensity_vals[nonzero_idx]\n",
    "nonzero_intensity_coords = intensity_coords[nonzero_idx]\n",
    "\n",
    "fig = pyplot.figure()\n",
    "ax = Axes3D(fig)\n",
    "\n",
    "ax.view_init(45, -60)\n",
    "ax.scatter(nonzero_intensity_coords[:, 0], nonzero_intensity_coords[:, 1], nonzero_intensity_coords[:, 2], c=nonzero_intensity_vals)\n",
    "pyplot.show()\n",
    "\n",
    "diffraction_intensity_volume_h5_file_handle.close()\n"
   ]
  }
 ],
 "metadata": {
  "kernelspec": {
   "display_name": "LCLS-I py2 (deprecated)",
   "language": "python",
   "name": "ana-current"
  },
  "language_info": {
   "codemirror_mode": {
    "name": "ipython",
    "version": 2
   },
   "file_extension": ".py",
   "mimetype": "text/x-python",
   "name": "python",
   "nbconvert_exporter": "python",
   "pygments_lexer": "ipython2",
   "version": "2.7.15"
  }
 },
 "nbformat": 4,
 "nbformat_minor": 2
}
