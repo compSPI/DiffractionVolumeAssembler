{
 "cells": [
  {
   "cell_type": "markdown",
   "metadata": {},
   "source": [
    "# Assemble a Diffraction Intensity Volume using Ground-truth Orientations"
   ]
  },
  {
   "cell_type": "code",
   "execution_count": null,
   "metadata": {},
   "outputs": [],
   "source": [
    "import numpy as np\n",
    "\n",
    "from tqdm import tqdm\n",
    "\n",
    "import h5py as h5\n",
    "\n",
    "from matplotlib import pyplot\n",
    "from mpl_toolkits.mplot3d import Axes3D\n"
   ]
  },
  {
   "cell_type": "markdown",
   "metadata": {},
   "source": [
    "## Utility functions"
   ]
  },
  {
   "cell_type": "code",
   "execution_count": null,
   "metadata": {},
   "outputs": [],
   "source": [
    "# Adapted from: https://sscc.nimh.nih.gov/pub/dist/bin/linux_gcc32/meica.libs/nibabel/quaternions.py\n",
    "def quat2mat(q):\n",
    "    ''' Calculate rotation matrix corresponding to quaternion\n",
    "\n",
    "    Parameters\n",
    "    ----------\n",
    "    q : 4 element array-like\n",
    "\n",
    "    Returns\n",
    "    -------\n",
    "    M : (3,3) array\n",
    "      Rotation matrix corresponding to input quaternion *q*\n",
    "\n",
    "    Notes\n",
    "    -----\n",
    "    Rotation matrix applies to column vectors, and is applied to the\n",
    "    left of coordinate vectors.  The algorithm here allows non-unit\n",
    "    quaternions.\n",
    "\n",
    "    References\n",
    "    ----------\n",
    "    Algorithm from\n",
    "    http://en.wikipedia.org/wiki/Rotation_matrix#Quaternion\n",
    "\n",
    "    Examples\n",
    "    --------\n",
    "    >>> import numpy as np\n",
    "    >>> M = quat2mat([1, 0, 0, 0]) # Identity quaternion\n",
    "    >>> np.allclose(M, np.eye(3))\n",
    "    True\n",
    "    >>> M = quat2mat([0, 1, 0, 0]) # 180 degree rotn around axis 0\n",
    "    >>> np.allclose(M, np.diag([1, -1, -1]))\n",
    "    True\n",
    "    '''\n",
    "    w, x, y, z = q\n",
    "    Nq = w*w + x*x + y*y + z*z\n",
    "    FLOAT_EPS = np.finfo(np.float).eps\n",
    "    if Nq < FLOAT_EPS:\n",
    "        return np.eye(3)\n",
    "    \n",
    "    s = 2.0 / Nq\n",
    "    X = x * s\n",
    "    Y = y * s\n",
    "    Z = z * s\n",
    "    wX = w * X\n",
    "    wY = w * Y\n",
    "    wZ = w * Z\n",
    "    xX = x * X\n",
    "    xY = x * Y\n",
    "    xZ = x * Z\n",
    "    yY = y * Y\n",
    "    yZ = y * Z\n",
    "    zZ = z * Z\n",
    "    \n",
    "    return np.array(\n",
    "           [[ 1.0 - (yY + zZ), xY - wZ, xZ + wY ],\n",
    "            [ xY + wZ, 1.0 - (xX + zZ), yZ - wX ],\n",
    "            [ xZ - wY, yZ + wX, 1.0 - (xX + yY) ]])\n",
    "\n",
    "def build_empty_intensity_grid():\n",
    "    x_ = np.linspace(-63., 64., 128.)\n",
    "    y_ = np.linspace(-63., 64., 128.)\n",
    "    z_ = np.linspace(-63., 64., 128.)\n",
    "\n",
    "    x, y, z = np.meshgrid(x_, y_, z_)\n",
    "\n",
    "    intensity_coords = np.column_stack((x.flatten(), y.flatten(), z.flatten()))\n",
    "\n",
    "    intensity_vals = np.zeros(len(intensity_coords))\n",
    "\n",
    "    return intensity_coords, intensity_vals\n",
    "\n",
    "def interpolate_oriented_intensity_using_diffraction_pattern(oriented_intensity_coords, intensity_vals, diffraction_pattern):\n",
    "    n_oriented_intensity_coords = len(oriented_intensity_coords)\n",
    "    diffraction_pattern_height = diffraction_pattern.shape[0]\n",
    "    diffraction_pattern_width = diffraction_pattern.shape[1]\n",
    "    \n",
    "    for oriented_intensity_coord_index in range(n_oriented_intensity_coords):\n",
    "        \n",
    "        oriented_intensity_coord_z = oriented_intensity_coords[oriented_intensity_coord_index, 2]\n",
    "\n",
    "        diffraction_slice_coord_z = int(round(oriented_intensity_coord_z))\n",
    "        \n",
    "        if diffraction_slice_coord_z == 0:\n",
    "            \n",
    "            oriented_intensity_coord_x = oriented_intensity_coords[oriented_intensity_coord_index, 0]\n",
    "            oriented_intensity_coord_y = oriented_intensity_coords[oriented_intensity_coord_index, 1]\n",
    "        \n",
    "            diffraction_slice_coord_x = int(round(oriented_intensity_coord_x))\n",
    "            diffraction_slice_coord_y = int(round(oriented_intensity_coord_y))\n",
    "            \n",
    "            diffraction_pattern_x = diffraction_slice_coord_x + diffraction_pattern_height // 2 - 1\n",
    "            diffraction_pattern_y = diffraction_slice_coord_y + diffraction_pattern_width // 2 - 1\n",
    "            \n",
    "            if 0 <= diffraction_pattern_x and diffraction_pattern_x < diffraction_pattern_height and 0 <= diffraction_pattern_y and diffraction_pattern_y < diffraction_pattern_width: \n",
    "                intensity_vals[oriented_intensity_coord_index] += diffraction_pattern[diffraction_pattern_x, diffraction_pattern_y]\n"
   ]
  },
  {
   "cell_type": "markdown",
   "metadata": {},
   "source": [
    "## Reconstruct the intensity"
   ]
  },
  {
   "cell_type": "code",
   "execution_count": null,
   "metadata": {},
   "outputs": [],
   "source": [
    "dataset_name = \"3iyf-10K-mixed-hit-99\"\n",
    "downsampled_images_output_subdir = \"downsample-128x128\"\n",
    "\n",
    "dataset_size = 10000\n",
    "\n",
    "downsampled_h5_file = \"/reg/data/ana03/scratch/deebanr/{}/dataset/{}/cspi_synthetic_dataset_diffraction_patterns_3iyf-10K-mixed-hit_uniform_quat_dataset-size={}_diffraction-pattern-shape=1024x1040.hdf5\".format(dataset_name, downsampled_images_output_subdir, dataset_size)\n",
    "h5_file = \"/reg/data/ana03/scratch/deebanr/{}/dataset/cspi_synthetic_dataset_diffraction_patterns_3iyf-10K-mixed-hit_uniform_quat_dataset-size={}_diffraction-pattern-shape=1024x1040.hdf5\".format(dataset_name, dataset_size)\n",
    "\n",
    "intensity_coords, intensity_vals = build_empty_intensity_grid()\n",
    "\n",
    "downsampled_h5_file_handle = h5.File(downsampled_h5_file, 'r')\n",
    "h5_file_handle = h5.File(h5_file, 'r')\n",
    "\n",
    "for dataset_index in tqdm(range(2)):   \n",
    "    diffraction_pattern = downsampled_h5_file_handle[\"downsampled_diffraction_patterns\"][dataset_index]\n",
    "    orientation = h5_file_handle[\"orientations\"][dataset_index]\n",
    "        \n",
    "    rotation_matrix_3d = quat2mat(orientation)\n",
    "    oriented_intensity_coords = np.dot(intensity_coords, rotation_matrix_3d)\n",
    "    \n",
    "    interpolate_oriented_intensity_using_diffraction_pattern(oriented_intensity_coords, intensity_vals, diffraction_pattern)\n",
    "\n",
    "h5_file_handle.close()\n"
   ]
  },
  {
   "cell_type": "markdown",
   "metadata": {},
   "source": [
    "## Plot the reconstructed intensity"
   ]
  },
  {
   "cell_type": "code",
   "execution_count": null,
   "metadata": {},
   "outputs": [],
   "source": [
    "nonzero_idx = np.where(intensity_vals > 0)\n",
    "nonzero_intensity_vals = intensity_vals[nonzero_idx]\n",
    "nonzero_intensity_coords = intensity_coords[nonzero_idx]\n"
   ]
  },
  {
   "cell_type": "code",
   "execution_count": null,
   "metadata": {},
   "outputs": [],
   "source": [
    "fig = pyplot.figure()\n",
    "ax = Axes3D(fig)\n",
    "\n",
    "ax.view_init(45, -60)\n",
    "ax.scatter(nonzero_intensity_coords[:, 0], nonzero_intensity_coords[:, 1], nonzero_intensity_coords[:, 2], c=nonzero_intensity_vals)\n",
    "pyplot.show()\n"
   ]
  }
 ],
 "metadata": {
  "kernelspec": {
   "display_name": "LCLS-I py2 (deprecated)",
   "language": "python",
   "name": "ana-current"
  },
  "language_info": {
   "codemirror_mode": {
    "name": "ipython",
    "version": 2
   },
   "file_extension": ".py",
   "mimetype": "text/x-python",
   "name": "python",
   "nbconvert_exporter": "python",
   "pygments_lexer": "ipython2",
   "version": "2.7.15"
  }
 },
 "nbformat": 4,
 "nbformat_minor": 2
}
